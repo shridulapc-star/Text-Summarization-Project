{
 "cells": [
  {
   "cell_type": "code",
   "execution_count": null,
   "id": "7f80ecd8",
   "metadata": {},
   "outputs": [],
   "source": [
    "d ={\"key\": \"value\", \"key1\": \"value1\"}"
   ]
  }
 ],
 "metadata": {
  "kernelspec": {
   "display_name": "textS",
   "language": "python",
   "name": "python3"
  },
  "language_info": {
   "name": "python",
   "version": "3.10.19"
  }
 },
 "nbformat": 4,
 "nbformat_minor": 5
}
